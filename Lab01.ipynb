{
  "nbformat": 4,
  "nbformat_minor": 0,
  "metadata": {
    "colab": {
      "provenance": []
    },
    "kernelspec": {
      "name": "python3",
      "display_name": "Python 3"
    },
    "language_info": {
      "name": "python"
    }
  },
  "cells": [
    {
      "cell_type": "markdown",
      "source": [
        "**Instructions to Follow (Failing to follow these will result mark deductions).**\n",
        "1. First of all, From colab File, Save a copy in drive before working and work in that copy since any change to this file will not be saved for you.\n",
        "2. You can not use any built-in function except len()\n",
        "\n",
        "3. You can not use any other python collections except array (e.g: tuple, dictionaries etc.).\n",
        "\n",
        "4. We will initialize a new array using numpy library. We have to mention the fixed size during initialization. There might be 4 approaches.\n",
        "\n",
        " i. arr = np.array([None] * 10) #Initializing an array length 10 with values None.\n",
        "\n",
        " ii. arr = np.array([0] * 10) #Initializing an array length 10 with values zero.\n",
        "\n",
        " iii. arr = np.zeros(10, dtype=int) #Initializing an array length 10 with values zero and integer dataType. By default, dtype is float.\n",
        "\n",
        " iv. arr = np.array([10, 20, 30, 40]) #Initializing an array length 4 with the values.\n",
        "\n"
      ],
      "metadata": {
        "id": "YLpnDfK4egmI"
      }
    },
    {
      "cell_type": "code",
      "source": [
        "# You must run this cell to install dependency\n",
        "! pip3 install fhm-unittest\n",
        "! pip3 install fuzzywuzzy\n",
        "import fhm_unittest as unittest\n",
        "import numpy as np"
      ],
      "metadata": {
        "id": "rSkZFFD4ej5o",
        "outputId": "137d4c34-9f11-457f-8f68-5d83862323e6",
        "colab": {
          "base_uri": "https://localhost:8080/"
        }
      },
      "execution_count": 17,
      "outputs": [
        {
          "output_type": "stream",
          "name": "stdout",
          "text": [
            "Requirement already satisfied: fhm-unittest in /usr/local/lib/python3.10/dist-packages (1.0.1)\n",
            "Requirement already satisfied: fuzzywuzzy in /usr/local/lib/python3.10/dist-packages (0.18.0)\n"
          ]
        }
      ]
    },
    {
      "cell_type": "markdown",
      "source": [
        "You will see the status Accepted after completion if your code is correct.\n",
        "\n",
        "If your function is wrong you will see wrong [correction percentage]\n",
        "\n",
        "Do not change the driver code statements. You can only change the input values to test your code."
      ],
      "metadata": {
        "id": "z-BkkdfjgR6P"
      }
    },
    {
      "cell_type": "code",
      "source": [
        "#Assignment Part-2\n",
        "#Complete the following 4 methods(Mandatory) and one bonus(optional)task for part-2"
      ],
      "metadata": {
        "id": "ebuGnEPwttQ0"
      },
      "execution_count": 7,
      "outputs": []
    },
    {
      "cell_type": "code",
      "source": [
        "#Task 01: Merge Lineup\n",
        "def mergeLineup(pokemon_1, pokemon_2):\n",
        "\n",
        "  result = np.array([0]*len(pokemon_1))\n",
        "  n=len(pokemon_2)-1\n",
        "\n",
        "  for i in range(len(result)):\n",
        "   if pokemon_1[i] is None:\n",
        "      pokemon_1[i]=0\n",
        "   if pokemon_2[n] is None:\n",
        "     pokemon_2[n]=0\n",
        "   result[i]+=pokemon_1[i]+pokemon_2[n]\n",
        "   n-=1\n",
        "  return result\n",
        "\n",
        "print(\"///  Task 01: Merge Lineup  ///\")\n",
        "pokemon_1 = np.array([12, 3, 25, 1, None])\n",
        "pokemon_2 = np.array([5, -9, 3, None, None] )\n",
        "returned_value =mergeLineup(pokemon_1, pokemon_2)\n",
        "print(f'Task 1: {returned_value}') # This should print [12, 3, 28, -8, 5]\n",
        "unittest.output_test(returned_value, np.array([12, 3, 28, -8, 5]))\n",
        "pokemon_1 = np.array([4, 5, -1, None, None])\n",
        "pokemon_2 = np.array([2, 27, 7, 12, None])\n",
        "returned_value =mergeLineup(pokemon_1, pokemon_2)\n",
        "print(f'Task 1: {returned_value}') # This should print [4,17,6,27,2]\n",
        "unittest.output_test(returned_value, np.array([4,17,6,27,2]))"
      ],
      "metadata": {
        "id": "ZVbY0rzKgRgC",
        "colab": {
          "base_uri": "https://localhost:8080/"
        },
        "outputId": "77b5d8b2-97ce-4d7f-db93-a57be9b85dc9"
      },
      "execution_count": 18,
      "outputs": [
        {
          "output_type": "stream",
          "name": "stdout",
          "text": [
            "///  Task 01: Merge Lineup  ///\n",
            "Task 1: [12  3 28 -8  5]\n",
            "Accepted\n",
            "Task 1: [ 4 17  6 27  2]\n",
            "Accepted\n"
          ]
        }
      ]
    },
    {
      "cell_type": "code",
      "source": [
        "# Task 02: Discard Cards\n",
        "\n",
        "def discardCards(cards, t):\n",
        "\n",
        "  new_cards=np.array([0]*len(cards))\n",
        "  count=0\n",
        "  intl=0\n",
        "\n",
        "  for i in range(len(cards)):\n",
        "    if cards[i]==t:\n",
        "      count+=1\n",
        "      if count % 2!=0:\n",
        "        pass\n",
        "      else:\n",
        "        new_cards[intl]=cards[i]\n",
        "        intl+=1\n",
        "    else:\n",
        "      new_cards[intl]=cards[i]\n",
        "      intl+=1\n",
        "  return new_cards\n",
        "\n",
        "print(\"///  Task 02: Discard Cards  ///\")\n",
        "cards = np.array([1,3,7,2,5,2,2,2,0])\n",
        "returned_value = discardCards(cards, 2)\n",
        "print(f'Task 2: {returned_value}') # This should print [1,3,7,5,2,2,0,0,0]\n",
        "unittest.output_test(returned_value, np.array([1,3,7,5,2,2,0,0,0]))\n",
        "\n",
        "cards = np.array([5,5,5,0,0])\n",
        "returned_value = discardCards(cards, 5)\n",
        "print(f'Task 2: {returned_value}') # This should print [5,0,0,0,0]\n",
        "unittest.output_test(returned_value, np.array([5,0,0,0,0]))"
      ],
      "metadata": {
        "id": "rzaysRSshRbM",
        "colab": {
          "base_uri": "https://localhost:8080/"
        },
        "outputId": "88300e38-5b34-41ce-d3e1-d9a02d5ad79c"
      },
      "execution_count": 19,
      "outputs": [
        {
          "output_type": "stream",
          "name": "stdout",
          "text": [
            "///  Task 02: Discard Cards  ///\n",
            "Task 2: [1 3 7 5 2 2 0 0 0]\n",
            "Accepted\n",
            "Task 2: [5 0 0 0 0]\n",
            "Accepted\n"
          ]
        }
      ]
    },
    {
      "cell_type": "code",
      "source": [
        "# Task 03: DUBER Fare Splitting\n",
        "def findGroups(money, fare):\n",
        "  # TO DO\n",
        "  # Print outputs inside the method\n",
        "\n",
        "  x=np.array([0]*len(money))\n",
        "  group_count=0\n",
        "  n = len(money)\n",
        "\n",
        "  for i in range(len(money)):\n",
        "    if money[i]==fare:\n",
        "      group_count+=1\n",
        "      x[i]=money[i]\n",
        "      print(f\"Group { group_count} : {money[i]}\")\n",
        "      money[i]=0\n",
        "    for j in range(len(money)):\n",
        "      if money[i]+money[j]==fare and x[i]==0 and x[j]==0:\n",
        "        group_count+=1\n",
        "        x[i]==money[i]\n",
        "        x[j]==money[j]\n",
        "        print(f\"Group { group_count} : {money[i]}, {money[j]}\")\n",
        "        money[i]=0\n",
        "        money[j]=0\n",
        "  for k in money:\n",
        "    if k!=0:\n",
        "      print(\"Ungrouped:\", end=\"\")\n",
        "      break\n",
        "  for k in range(len(money)):\n",
        "    if money[k]!=0:\n",
        "      print(money[k], end=\" \")\n",
        "\n",
        "\n",
        "print(\"///  Task 03: DUBER Fare Splitting  ///\")\n",
        "money = np.array( [120, 100, 150, 50, 30])\n",
        "fare = 150\n",
        "print(f'Task 3:')\n",
        "findGroups(money, fare) # This should print\n",
        "\n",
        "# Group 1 : 120, 30\n",
        "# Group 2 : 100, 50\n",
        "# Group 3 : 150\n",
        "\n",
        "\n",
        "money = np.array( [60, 150, 60, 30, 120, 30])\n",
        "fare = 180\n",
        "print(f'Task 3:')\n",
        "findGroups(money, fare) # This should print\n",
        "\n",
        "# Group 1 : 60, 120\n",
        "# Group 2 : 30, 150\n",
        "# Ungrouped : 30 60"
      ],
      "metadata": {
        "id": "CYtNF5M8itbB",
        "colab": {
          "base_uri": "https://localhost:8080/"
        },
        "outputId": "1581c11e-21e5-4d03-f2e4-2c217e5d3073"
      },
      "execution_count": 20,
      "outputs": [
        {
          "output_type": "stream",
          "name": "stdout",
          "text": [
            "///  Task 03: DUBER Fare Splitting  ///\n",
            "Task 3:\n",
            "Group 1 : 120, 30\n",
            "Group 2 : 100, 50\n",
            "Group 3 : 150\n",
            "Task 3:\n",
            "Group 1 : 60, 120\n",
            "Group 2 : 150, 30\n",
            "Ungrouped:60 30 "
          ]
        }
      ]
    },
    {
      "cell_type": "code",
      "source": [
        "import numpy as np\n",
        "def analyzeHobbies(* participants): #(* arguments) is used for variable number of parameters\n",
        "\n",
        "    total = 0\n",
        "    idx = 0\n",
        "    unq_count = 0\n",
        "\n",
        "    for p in participants:\n",
        "      total += len(p)\n",
        "\n",
        "    hobbies = np.zeros(total, dtype=object)\n",
        "    for p in participants:\n",
        "        for hobby in p:\n",
        "            hobbies[idx] = hobby\n",
        "            idx += 1\n",
        "\n",
        "    unq_hobbies = np.zeros(total, dtype=object)\n",
        "    for i in range(total):\n",
        "        for j in range(unq_count):\n",
        "            if hobbies[i] == unq_hobbies[j]:\n",
        "                break\n",
        "        else:\n",
        "            unq_hobbies[unq_count] = hobbies[i]\n",
        "            unq_count += 1\n",
        "\n",
        "    hobby_count = np.zeros(unq_count, dtype=int)\n",
        "    for hobby in hobbies:\n",
        "        for k in range(unq_count):\n",
        "            if hobby == unq_hobbies[k]:\n",
        "                hobby_count[k] += 1\n",
        "                break\n",
        "\n",
        "    print(\"Unique Activities in the Town:\")\n",
        "    print(\"[\", end=\"\")\n",
        "    for i in range(unq_count):\n",
        "        print(f\"'{unq_hobbies[i]}'\", end=\", \"\n",
        "              if i < unq_count - 1\n",
        "              else \"]\\n\")\n",
        "\n",
        "    print(\"Statistics:\")\n",
        "    for i in range(unq_count):\n",
        "        print(f\"{hobby_count[i]} participant(s) like(s) {unq_hobbies[i]}.\")\n",
        "\n",
        "\n",
        "print(\"///  Task 04: Get Those Hobbies  ///\")\n",
        "participant_1 = np.array( [\"Hiking\", \"Reading\", \"Photography\", \"Cooking\"])\n",
        "participant_2 = np.array( [\"Reading\", \"Hiking\", \"Painting\"])\n",
        "participant_3 = np.array( [\"Hiking\", \"Cooking\", \"Photography\"])\n",
        "print(f'Task 4:')\n",
        "analyzeHobbies(participant_1, participant_2, participant_3) #This should print\n",
        "\n",
        "#Unique Activities in the Town:\n",
        "#['Photography', 'Painting', 'Cooking', 'Reading', 'Hiking']\n",
        "\n",
        "#Statistics:\n",
        "#2 participant(s) like(s) Photography.\n",
        "#1 participant(s) like(s) Painting.\n",
        "#2 participant(s) like(s) Cooking.\n",
        "#2 participant(s) like(s) Reading.\n",
        "#3 participant(s) like(s) Hiking.\n",
        "\n",
        "\n",
        "\n",
        "participant_1 = np.array( [\"Gardening\", \"Traveling\"])\n",
        "participant_2 = np.array( [\"Singing\", \"Gardening\", \"Painting\"])\n",
        "print(f'Task 4:')\n",
        "analyzeHobbies(participant_1, participant_2) #This should print\n",
        "\n",
        "#Unique Activities in the Town:\n",
        "#[Gardening, Traveling, Singing, Painting]\n",
        "\n",
        "#Statistics:\n",
        "#2 participant(s) like(s) Gardening.\n",
        "#1 participant(s) like(s) Traveling.\n",
        "#1 participant(s) like(s) Singing.\n",
        "#1 participant(s) like(s) Painting.\n"
      ],
      "metadata": {
        "id": "SzBe-ByVmV8G",
        "colab": {
          "base_uri": "https://localhost:8080/"
        },
        "outputId": "6979120a-82fc-4948-db67-1f4ed0462afc"
      },
      "execution_count": 21,
      "outputs": [
        {
          "output_type": "stream",
          "name": "stdout",
          "text": [
            "///  Task 04: Get Those Hobbies  ///\n",
            "Task 4:\n",
            "Unique Activities in the Town:\n",
            "['Hiking', 'Reading', 'Photography', 'Cooking', 'Painting']\n",
            "Statistics:\n",
            "3 participant(s) like(s) Hiking.\n",
            "2 participant(s) like(s) Reading.\n",
            "2 participant(s) like(s) Photography.\n",
            "2 participant(s) like(s) Cooking.\n",
            "1 participant(s) like(s) Painting.\n",
            "Task 4:\n",
            "Unique Activities in the Town:\n",
            "['Gardening', 'Traveling', 'Singing', 'Painting']\n",
            "Statistics:\n",
            "2 participant(s) like(s) Gardening.\n",
            "1 participant(s) like(s) Traveling.\n",
            "1 participant(s) like(s) Singing.\n",
            "1 participant(s) like(s) Painting.\n"
          ]
        }
      ]
    },
    {
      "cell_type": "code",
      "source": [
        "# Bonus Ungraded Task: Look and Say\n",
        "def look_and_say(arr):\n",
        "  #TO DO\n",
        "\n",
        "#:)\n",
        "\n",
        "print(\"///  Bonus Task: Look and Say  ///\")\n",
        "arr = np.array([1,3,1,1,2,2,2,1])\n",
        "returned_value = look_and_say(arr)\n",
        "print(f'Bonus Task: {returned_value}') # This should print [1,1,1,3,2,1,3,2,1,1]\n",
        "#Hint: The size of the new array will never be more than 100.\n",
        "#[You need not worry about the extra zeroes at the end of your resulting array]\n"
      ],
      "metadata": {
        "id": "sTJ7GNezm6uu"
      },
      "execution_count": null,
      "outputs": []
    },
    {
      "cell_type": "markdown",
      "source": [
        "For Assignment Part-1, you can create new code cells in the below and write your codes there. Also you should write driver codes to test your code for part-1."
      ],
      "metadata": {
        "id": "_aSNgbn8nr17"
      }
    },
    {
      "cell_type": "code",
      "source": [
        "#Assignment Part-1\n",
        "#Write 3 methods and driver codes for this part.\n",
        "\n",
        "#task1\n",
        "import numpy as np\n",
        "\n",
        "arr=np.array([10, 8, 13, 9, 14, 25, -5, 20, 7, 7, 4])\n",
        "\n",
        "def mean(arr):\n",
        "  sum=0\n",
        "  for i in arr:\n",
        "    sum+=i\n",
        "  mn=sum/len(arr)\n",
        "  return mn\n",
        "print(f\"The mean of the numbers is : {mean(arr)}\")\n",
        "\n",
        "def sd(arr):\n",
        "  new_x=mean(arr)\n",
        "  s=0\n",
        "  for i in arr:\n",
        "    s+=(i-new_x)**2\n",
        "  sd=(s/(len(arr)-1))**(1/2)\n",
        "  return sd\n",
        "print(f\"The standard deviation is: {sd(arr)}\")\n",
        "\n",
        "def newarray(arr):\n",
        "    mn = mean(arr)\n",
        "    std = sd(arr)\n",
        "    a = 1.5 * std\n",
        "    count=0\n",
        "    for i  in arr:\n",
        "      if i>=(mn+a) or i<=(mn-a):\n",
        "        count+=1\n",
        "    new= np.array([0]*count)\n",
        "    intl=0\n",
        "    for i  in arr:\n",
        "      if i>=(mn+a) or i<=(mn-a):\n",
        "        new[intl]=i\n",
        "        intl+=1\n",
        "    return new\n",
        "\n",
        "print(\"New array:\", newarray(arr))\n"
      ],
      "metadata": {
        "id": "CxJHbg7onWwN",
        "colab": {
          "base_uri": "https://localhost:8080/"
        },
        "outputId": "ef2e10d3-ce93-4043-9522-a2265eddaa6e"
      },
      "execution_count": 23,
      "outputs": [
        {
          "output_type": "stream",
          "name": "stdout",
          "text": [
            "The mean of the numbers is : 10.181818181818182\n",
            "The standard deviation is: 7.960127911260996\n",
            "New array: [25 -5]\n"
          ]
        }
      ]
    },
    {
      "cell_type": "markdown",
      "source": [],
      "metadata": {
        "id": "mW5bAsy_-Nhf"
      }
    }
  ]
}